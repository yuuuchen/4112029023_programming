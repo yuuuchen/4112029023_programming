{
  "nbformat": 4,
  "nbformat_minor": 0,
  "metadata": {
    "colab": {
      "provenance": []
    },
    "kernelspec": {
      "name": "python3",
      "display_name": "Python 3"
    },
    "language_info": {
      "name": "python"
    }
  },
  "cells": [
    {
      "cell_type": "code",
      "execution_count": 8,
      "metadata": {
        "colab": {
          "base_uri": "https://localhost:8080/"
        },
        "id": "xnl-eAHFLT-7",
        "outputId": "c0bb60a3-55ad-4350-fc30-2b12c7f60417"
      },
      "outputs": [
        {
          "output_type": "stream",
          "name": "stdout",
          "text": [
            "請輸入你的身高(公尺):1.65\n",
            "請輸入你的體重(公斤):50\n",
            "您的BMI是:18.37\n"
          ]
        }
      ],
      "source": [
        "height = float(input(\"請輸入你的身高(公尺):\"))\n",
        "weight = float(input(\"請輸入你的體重(公斤):\"))\n",
        "BMI = weight/(height**2)\n",
        "print(f\"您的BMI是:{BMI:.2f}\")"
      ]
    }
  ]
}